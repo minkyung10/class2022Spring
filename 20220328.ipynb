{
  "nbformat": 4,
  "nbformat_minor": 0,
  "metadata": {
    "colab": {
      "name": "20220328.ipynb",
      "provenance": [],
      "authorship_tag": "ABX9TyPyIY9i1ZLKboR7GxvkV8Iv",
      "include_colab_link": true
    },
    "kernelspec": {
      "name": "python3",
      "display_name": "Python 3"
    },
    "language_info": {
      "name": "python"
    }
  },
  "cells": [
    {
      "cell_type": "markdown",
      "metadata": {
        "id": "view-in-github",
        "colab_type": "text"
      },
      "source": [
        "<a href=\"https://colab.research.google.com/github/minkyung10/class2022Spring/blob/main/20220328.ipynb\" target=\"_parent\"><img src=\"https://colab.research.google.com/assets/colab-badge.svg\" alt=\"Open In Colab\"/></a>"
      ]
    },
    {
      "cell_type": "code",
      "execution_count": null,
      "metadata": {
        "id": "j6ITYAavJ7Am"
      },
      "outputs": [],
      "source": [
        "!pip install gradio\n",
        "import gradio as gr\n",
        "import requests\n",
        "import pandas as pd"
      ]
    },
    {
      "cell_type": "markdown",
      "source": [
        "-한국수자원공사 다목적댐 월별 발전량"
      ],
      "metadata": {
        "id": "pYizfmvar_oO"
      }
    },
    {
      "cell_type": "code",
      "source": [
        "URL = ('http://apis.data.go.kr/B500001/electric/elcpPerformance/elcpPerformancelist?stDt=2021-01&edDt=2021-12&&numOfRows=12&pageNo=1'\n",
        "       '&_type=json'\n",
        "       '&serviceKey=%2BcbJOkdps0Jns1WQEUd3FOxRq2kNNmNuho9TQK%2F7BqqrYVD8vZ2I55LtIm245Dx%2BQokUZiBTY75MDC6FORiaBw%3D%3D')\n",
        "response = requests.get(URL)\n",
        "response"
      ],
      "metadata": {
        "colab": {
          "base_uri": "https://localhost:8080/"
        },
        "id": "Z2dz5PVoKIT4",
        "outputId": "91e7a5e0-1ae7-4900-d0cd-e86ee35ba99e"
      },
      "execution_count": 16,
      "outputs": [
        {
          "output_type": "execute_result",
          "data": {
            "text/plain": [
              "<Response [200]>"
            ]
          },
          "metadata": {},
          "execution_count": 16
        }
      ]
    },
    {
      "cell_type": "code",
      "source": [
        "r = response. json ()\n",
        "r"
      ],
      "metadata": {
        "colab": {
          "base_uri": "https://localhost:8080/"
        },
        "id": "muHJEbBELJZJ",
        "outputId": "898ff645-163f-4e7c-d63b-a673a5d29c71"
      },
      "execution_count": 17,
      "outputs": [
        {
          "output_type": "execute_result",
          "data": {
            "text/plain": [
              "{'response': {'body': {'items': {'item': [{'msr': '166,165',\n",
              "      'stdrDe': '2021-01'},\n",
              "     {'msr': '142,368', 'stdrDe': '2021-02'},\n",
              "     {'msr': '155,372', 'stdrDe': '2021-03'},\n",
              "     {'msr': '176,779', 'stdrDe': '2021-04'},\n",
              "     {'msr': '209,138', 'stdrDe': '2021-05'},\n",
              "     {'msr': '247,817', 'stdrDe': '2021-06'},\n",
              "     {'msr': '243,011', 'stdrDe': '2021-07'},\n",
              "     {'msr': '212,355', 'stdrDe': '2021-08'},\n",
              "     {'msr': '219,962', 'stdrDe': '2021-09'},\n",
              "     {'msr': '165,363', 'stdrDe': '2021-10'},\n",
              "     {'msr': '150,823', 'stdrDe': '2021-11'},\n",
              "     {'msr': '154,717', 'stdrDe': '2021-12'}]},\n",
              "   'numOfRows': 12,\n",
              "   'pageNo': 1,\n",
              "   'totalCount': 12},\n",
              "  'header': {'resultCode': '00', 'resultMsg': 'NORMAL SERVICE.'}}}"
            ]
          },
          "metadata": {},
          "execution_count": 17
        }
      ]
    },
    {
      "cell_type": "code",
      "source": [
        "items = r['response']['body']['items']['item']\n",
        "\n",
        "stdrDe = [item['stdrDe'] for item in items]\n",
        "msr = [item['msr'] for item in items]\n",
        "\n",
        "stdrDe = pd.Series(stdrDe)\n",
        "msr = pd. Series(msr)\n",
        "\n",
        "df = pd. DataFrame({'실적일자':stdrDe, '거래량':msr})\n",
        "df"
      ],
      "metadata": {
        "colab": {
          "base_uri": "https://localhost:8080/",
          "height": 426
        },
        "id": "KDXMlXQQfjlV",
        "outputId": "2eb8893f-31d9-4616-fcb2-0166ea530ce9"
      },
      "execution_count": 24,
      "outputs": [
        {
          "output_type": "execute_result",
          "data": {
            "text/plain": [
              "       실적일자      거래량\n",
              "0   2021-01  166,165\n",
              "1   2021-02  142,368\n",
              "2   2021-03  155,372\n",
              "3   2021-04  176,779\n",
              "4   2021-05  209,138\n",
              "5   2021-06  247,817\n",
              "6   2021-07  243,011\n",
              "7   2021-08  212,355\n",
              "8   2021-09  219,962\n",
              "9   2021-10  165,363\n",
              "10  2021-11  150,823\n",
              "11  2021-12  154,717"
            ],
            "text/html": [
              "\n",
              "  <div id=\"df-5f37f4e2-0266-4fd5-9547-f4336f5a7dc0\">\n",
              "    <div class=\"colab-df-container\">\n",
              "      <div>\n",
              "<style scoped>\n",
              "    .dataframe tbody tr th:only-of-type {\n",
              "        vertical-align: middle;\n",
              "    }\n",
              "\n",
              "    .dataframe tbody tr th {\n",
              "        vertical-align: top;\n",
              "    }\n",
              "\n",
              "    .dataframe thead th {\n",
              "        text-align: right;\n",
              "    }\n",
              "</style>\n",
              "<table border=\"1\" class=\"dataframe\">\n",
              "  <thead>\n",
              "    <tr style=\"text-align: right;\">\n",
              "      <th></th>\n",
              "      <th>실적일자</th>\n",
              "      <th>거래량</th>\n",
              "    </tr>\n",
              "  </thead>\n",
              "  <tbody>\n",
              "    <tr>\n",
              "      <th>0</th>\n",
              "      <td>2021-01</td>\n",
              "      <td>166,165</td>\n",
              "    </tr>\n",
              "    <tr>\n",
              "      <th>1</th>\n",
              "      <td>2021-02</td>\n",
              "      <td>142,368</td>\n",
              "    </tr>\n",
              "    <tr>\n",
              "      <th>2</th>\n",
              "      <td>2021-03</td>\n",
              "      <td>155,372</td>\n",
              "    </tr>\n",
              "    <tr>\n",
              "      <th>3</th>\n",
              "      <td>2021-04</td>\n",
              "      <td>176,779</td>\n",
              "    </tr>\n",
              "    <tr>\n",
              "      <th>4</th>\n",
              "      <td>2021-05</td>\n",
              "      <td>209,138</td>\n",
              "    </tr>\n",
              "    <tr>\n",
              "      <th>5</th>\n",
              "      <td>2021-06</td>\n",
              "      <td>247,817</td>\n",
              "    </tr>\n",
              "    <tr>\n",
              "      <th>6</th>\n",
              "      <td>2021-07</td>\n",
              "      <td>243,011</td>\n",
              "    </tr>\n",
              "    <tr>\n",
              "      <th>7</th>\n",
              "      <td>2021-08</td>\n",
              "      <td>212,355</td>\n",
              "    </tr>\n",
              "    <tr>\n",
              "      <th>8</th>\n",
              "      <td>2021-09</td>\n",
              "      <td>219,962</td>\n",
              "    </tr>\n",
              "    <tr>\n",
              "      <th>9</th>\n",
              "      <td>2021-10</td>\n",
              "      <td>165,363</td>\n",
              "    </tr>\n",
              "    <tr>\n",
              "      <th>10</th>\n",
              "      <td>2021-11</td>\n",
              "      <td>150,823</td>\n",
              "    </tr>\n",
              "    <tr>\n",
              "      <th>11</th>\n",
              "      <td>2021-12</td>\n",
              "      <td>154,717</td>\n",
              "    </tr>\n",
              "  </tbody>\n",
              "</table>\n",
              "</div>\n",
              "      <button class=\"colab-df-convert\" onclick=\"convertToInteractive('df-5f37f4e2-0266-4fd5-9547-f4336f5a7dc0')\"\n",
              "              title=\"Convert this dataframe to an interactive table.\"\n",
              "              style=\"display:none;\">\n",
              "        \n",
              "  <svg xmlns=\"http://www.w3.org/2000/svg\" height=\"24px\"viewBox=\"0 0 24 24\"\n",
              "       width=\"24px\">\n",
              "    <path d=\"M0 0h24v24H0V0z\" fill=\"none\"/>\n",
              "    <path d=\"M18.56 5.44l.94 2.06.94-2.06 2.06-.94-2.06-.94-.94-2.06-.94 2.06-2.06.94zm-11 1L8.5 8.5l.94-2.06 2.06-.94-2.06-.94L8.5 2.5l-.94 2.06-2.06.94zm10 10l.94 2.06.94-2.06 2.06-.94-2.06-.94-.94-2.06-.94 2.06-2.06.94z\"/><path d=\"M17.41 7.96l-1.37-1.37c-.4-.4-.92-.59-1.43-.59-.52 0-1.04.2-1.43.59L10.3 9.45l-7.72 7.72c-.78.78-.78 2.05 0 2.83L4 21.41c.39.39.9.59 1.41.59.51 0 1.02-.2 1.41-.59l7.78-7.78 2.81-2.81c.8-.78.8-2.07 0-2.86zM5.41 20L4 18.59l7.72-7.72 1.47 1.35L5.41 20z\"/>\n",
              "  </svg>\n",
              "      </button>\n",
              "      \n",
              "  <style>\n",
              "    .colab-df-container {\n",
              "      display:flex;\n",
              "      flex-wrap:wrap;\n",
              "      gap: 12px;\n",
              "    }\n",
              "\n",
              "    .colab-df-convert {\n",
              "      background-color: #E8F0FE;\n",
              "      border: none;\n",
              "      border-radius: 50%;\n",
              "      cursor: pointer;\n",
              "      display: none;\n",
              "      fill: #1967D2;\n",
              "      height: 32px;\n",
              "      padding: 0 0 0 0;\n",
              "      width: 32px;\n",
              "    }\n",
              "\n",
              "    .colab-df-convert:hover {\n",
              "      background-color: #E2EBFA;\n",
              "      box-shadow: 0px 1px 2px rgba(60, 64, 67, 0.3), 0px 1px 3px 1px rgba(60, 64, 67, 0.15);\n",
              "      fill: #174EA6;\n",
              "    }\n",
              "\n",
              "    [theme=dark] .colab-df-convert {\n",
              "      background-color: #3B4455;\n",
              "      fill: #D2E3FC;\n",
              "    }\n",
              "\n",
              "    [theme=dark] .colab-df-convert:hover {\n",
              "      background-color: #434B5C;\n",
              "      box-shadow: 0px 1px 3px 1px rgba(0, 0, 0, 0.15);\n",
              "      filter: drop-shadow(0px 1px 2px rgba(0, 0, 0, 0.3));\n",
              "      fill: #FFFFFF;\n",
              "    }\n",
              "  </style>\n",
              "\n",
              "      <script>\n",
              "        const buttonEl =\n",
              "          document.querySelector('#df-5f37f4e2-0266-4fd5-9547-f4336f5a7dc0 button.colab-df-convert');\n",
              "        buttonEl.style.display =\n",
              "          google.colab.kernel.accessAllowed ? 'block' : 'none';\n",
              "\n",
              "        async function convertToInteractive(key) {\n",
              "          const element = document.querySelector('#df-5f37f4e2-0266-4fd5-9547-f4336f5a7dc0');\n",
              "          const dataTable =\n",
              "            await google.colab.kernel.invokeFunction('convertToInteractive',\n",
              "                                                     [key], {});\n",
              "          if (!dataTable) return;\n",
              "\n",
              "          const docLinkHtml = 'Like what you see? Visit the ' +\n",
              "            '<a target=\"_blank\" href=https://colab.research.google.com/notebooks/data_table.ipynb>data table notebook</a>'\n",
              "            + ' to learn more about interactive tables.';\n",
              "          element.innerHTML = '';\n",
              "          dataTable['output_type'] = 'display_data';\n",
              "          await google.colab.output.renderOutput(dataTable, element);\n",
              "          const docLink = document.createElement('div');\n",
              "          docLink.innerHTML = docLinkHtml;\n",
              "          element.appendChild(docLink);\n",
              "        }\n",
              "      </script>\n",
              "    </div>\n",
              "  </div>\n",
              "  "
            ]
          },
          "metadata": {},
          "execution_count": 24
        }
      ]
    },
    {
      "cell_type": "code",
      "source": [
        "def test (stDt):\n",
        " URL = ('http://apis.data.go.kr/B500001/electric/elcpPerformance/elcpPerformancelist?'\n",
        "        '&stDt=' +stDt+\n",
        "        '&edDt=2021-12&&numOfRows=12&pageNo=1'\n",
        "        '&_type=json'\n",
        "        '&serviceKey=%2BcbJOkdps0Jns1WQEUd3FOxRq2kNNmNuho9TQK%2F7BqqrYVD8vZ2I55LtIm245Dx%2BQokUZiBTY75MDC6FORiaBw%3D%3D')\n",
        "  \n",
        " response = requests.get(URL)\n",
        " r = response.json ()\n",
        " items = r['response']['body']['items']['item']\n",
        "\n",
        " stdrDe = [item['stdrDe'] for item in items]\n",
        " msr = [item['msr'] for item in items]\n",
        "\n",
        " stdrDe = pd.Series(stdrDe)\n",
        " msr = pd. Series(msr)\n",
        "\n",
        " df = pd. DataFrame({'실적일자':stdrDe, '거래량':msr})\n",
        " return df"
      ],
      "metadata": {
        "id": "07iRWHDBmFZK"
      },
      "execution_count": 37,
      "outputs": []
    },
    {
      "cell_type": "code",
      "source": [
        "iface = gr. Interface(test, inputs = [\"number\"], outputs = ['dataframe'] )\n",
        "iface. launch(debug=True)"
      ],
      "metadata": {
        "colab": {
          "base_uri": "https://localhost:8080/",
          "height": 665
        },
        "id": "aLmjn-Y-o-i8",
        "outputId": "b0370f8b-327c-4287-dfaf-afc847b3e54b"
      },
      "execution_count": 42,
      "outputs": [
        {
          "output_type": "stream",
          "name": "stdout",
          "text": [
            "Colab notebook detected. This cell will run indefinitely so that you can see errors and logs. To turn off, set debug=False in launch().\n",
            "Running on public URL: https://17952.gradio.app\n",
            "\n",
            "This share link expires in 72 hours. For free permanent hosting, check out Spaces (https://huggingface.co/spaces)\n"
          ]
        },
        {
          "output_type": "display_data",
          "data": {
            "text/plain": [
              "<IPython.lib.display.IFrame at 0x7fbf09a90790>"
            ],
            "text/html": [
              "\n",
              "        <iframe\n",
              "            width=\"900\"\n",
              "            height=\"500\"\n",
              "            src=\"https://17952.gradio.app\"\n",
              "            frameborder=\"0\"\n",
              "            allowfullscreen\n",
              "        ></iframe>\n",
              "        "
            ]
          },
          "metadata": {}
        },
        {
          "output_type": "stream",
          "name": "stdout",
          "text": [
            "Keyboard interruption in main thread... closing server.\n"
          ]
        },
        {
          "output_type": "execute_result",
          "data": {
            "text/plain": [
              "(<fastapi.applications.FastAPI at 0x7fbf1583a550>,\n",
              " 'http://127.0.0.1:7860/',\n",
              " 'https://17952.gradio.app')"
            ]
          },
          "metadata": {},
          "execution_count": 42
        }
      ]
    }
  ]
}