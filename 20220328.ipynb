{
  "nbformat": 4,
  "nbformat_minor": 0,
  "metadata": {
    "colab": {
      "name": "Untitled8.ipynb",
      "provenance": [],
      "authorship_tag": "ABX9TyPEMP0hToRkib5ZKWr9G/m+",
      "include_colab_link": true
    },
    "kernelspec": {
      "name": "python3",
      "display_name": "Python 3"
    },
    "language_info": {
      "name": "python"
    }
  },
  "cells": [
    {
      "cell_type": "markdown",
      "metadata": {
        "id": "view-in-github",
        "colab_type": "text"
      },
      "source": [
        "<a href=\"https://colab.research.google.com/github/minkyung10/class2022Spring/blob/main/20220328.ipynb\" target=\"_parent\"><img src=\"https://colab.research.google.com/assets/colab-badge.svg\" alt=\"Open In Colab\"/></a>"
      ]
    },
    {
      "cell_type": "code",
      "execution_count": null,
      "metadata": {
        "id": "NDGqZ0uogOxu"
      },
      "outputs": [],
      "source": [
        "!pip install gradio\n",
        "import gradio as gr\n",
        "import requests\n",
        "import pandas as pd"
      ]
    },
    {
      "cell_type": "code",
      "source": [
        "URL = ('http://apis.data.go.kr/6430000/currentBioCompaniesService/getCurrentBioCompanies?'\n",
        "       'serviceKey=%2BcbJOkdps0Jns1WQEUd3FOxRq2kNNmNuho9TQK%2F7BqqrYVD8vZ2I55LtIm245Dx%2BQokUZiBTY75MDC6FORiaBw%3D%3D'\n",
        "      '&currentPage=1&perPage=10&_type=json')\n",
        "response = requests.get(URL)\n",
        "response"
      ],
      "metadata": {
        "colab": {
          "base_uri": "https://localhost:8080/"
        },
        "id": "OKVI-m7TgcZ3",
        "outputId": "5ea87c01-3593-45d7-82e8-af274195cd85"
      },
      "execution_count": 3,
      "outputs": [
        {
          "output_type": "execute_result",
          "data": {
            "text/plain": [
              "<Response [200]>"
            ]
          },
          "metadata": {},
          "execution_count": 3
        }
      ]
    },
    {
      "cell_type": "code",
      "source": [
        "r = response. json ()\n",
        "r"
      ],
      "metadata": {
        "colab": {
          "base_uri": "https://localhost:8080/"
        },
        "id": "1QsECGcB282s",
        "outputId": "ca0b439d-3c27-4e06-85ec-e757e22ab13d"
      },
      "execution_count": 4,
      "outputs": [
        {
          "output_type": "execute_result",
          "data": {
            "text/plain": [
              "{'body': [{'CTTPC': '043-645-2371',\n",
              "   'ENTRPRS': '새찬알디에프',\n",
              "   'LOCPLC': '단양',\n",
              "   'NMPR': '7',\n",
              "   'NO': 1,\n",
              "   'REALM': '화학',\n",
              "   'RPRSNTV': '이송미'},\n",
              "  {'CTTPC': '043-423-6024',\n",
              "   'ENTRPRS': '단양소백농협발효퇴비공장',\n",
              "   'LOCPLC': '단양',\n",
              "   'NMPR': '3',\n",
              "   'NO': 2,\n",
              "   'REALM': '화학',\n",
              "   'RPRSNTV': '남희주'},\n",
              "  {'CTTPC': '043-422-0077',\n",
              "   'ENTRPRS': '소백산술도가',\n",
              "   'LOCPLC': '단양',\n",
              "   'NMPR': '2',\n",
              "   'NO': 3,\n",
              "   'REALM': '식품',\n",
              "   'RPRSNTV': '이수영'},\n",
              "  {'CTTPC': '043-266-3566',\n",
              "   'ENTRPRS': '㈜하천환경',\n",
              "   'LOCPLC': '단양',\n",
              "   'NMPR': '4',\n",
              "   'NO': 4,\n",
              "   'REALM': '의약',\n",
              "   'RPRSNTV': '백주영'},\n",
              "  {'CTTPC': '043-421-2198',\n",
              "   'ENTRPRS': '㈜에이엠에이트렝딩',\n",
              "   'LOCPLC': '단양',\n",
              "   'NMPR': '14',\n",
              "   'NO': 5,\n",
              "   'REALM': '의약',\n",
              "   'RPRSNTV': '이주영'},\n",
              "  {'CTTPC': '043-421-3336',\n",
              "   'ENTRPRS': '씨알에프앤씨㈜',\n",
              "   'LOCPLC': '단양',\n",
              "   'NMPR': '8',\n",
              "   'NO': 6,\n",
              "   'REALM': '의약',\n",
              "   'RPRSNTV': '장경자'},\n",
              "  {'CTTPC': '043-422-6585',\n",
              "   'ENTRPRS': '풍성약업㈜',\n",
              "   'LOCPLC': '단양',\n",
              "   'NMPR': '4',\n",
              "   'NO': 7,\n",
              "   'REALM': '의약',\n",
              "   'RPRSNTV': '양영삼'},\n",
              "  {'CTTPC': '043-421-0722',\n",
              "   'ENTRPRS': '경성산업',\n",
              "   'LOCPLC': '단양',\n",
              "   'NMPR': '4',\n",
              "   'NO': 8,\n",
              "   'REALM': '의약',\n",
              "   'RPRSNTV': '최찬송'},\n",
              "  {'CTTPC': '043-422-4955',\n",
              "   'ENTRPRS': '㈜참좋은생명의집',\n",
              "   'LOCPLC': '단양',\n",
              "   'NMPR': '1',\n",
              "   'NO': 9,\n",
              "   'REALM': '식품',\n",
              "   'RPRSNTV': '김혜순'},\n",
              "  {'CTTPC': '043-421-1611',\n",
              "   'ENTRPRS': '㈜단양클로렐라',\n",
              "   'LOCPLC': '단양',\n",
              "   'NMPR': '4',\n",
              "   'NO': 10,\n",
              "   'REALM': '식품',\n",
              "   'RPRSNTV': '김정곤'}],\n",
              " 'header': {'currentPage': 1,\n",
              "  'perPage': 10,\n",
              "  'resultCode': '00',\n",
              "  'resultMsg': 'NORMAL_SERVICE',\n",
              "  'totalRows': 571}}"
            ]
          },
          "metadata": {},
          "execution_count": 4
        }
      ]
    },
    {
      "cell_type": "code",
      "source": [
        "items = r['body']\n",
        "\n",
        "CTTPC = [item['CTTPC'] for item in items]\n",
        "ENTRPRS = [item['ENTRPRS'] for item in items]\n",
        "LOCPLC = [item['LOCPLC'] for item in items]\n",
        "NMPR = [item['NMPR'] for item in items]\n",
        "REALM = [item['REALM'] for item in items]\n",
        "RPRSNTV = [item['RPRSNTV'] for item in items]\n",
        "\n",
        "ENTRPRS = pd.Series(ENTRPRS)\n",
        "CTTPC = pd.Series(CTTPC)\n",
        "LOCPLC = pd.Series(LOCPLC)\n",
        "NMPR = pd.Series(NMPR)\n",
        "REALM = pd.Series(REALM)\n",
        "RPRSNTV = pd.Series(RPRSNTV)\n",
        "\n",
        "df = pd. DataFrame({'기업체': ENTRPRS, '연락처': CTTPC, '소재지': LOCPLC, '인원': NMPR, '분야': REALM, '대표자':RPRSNTV})\n",
        "df\n"
      ],
      "metadata": {
        "colab": {
          "base_uri": "https://localhost:8080/",
          "height": 363
        },
        "id": "9-e8REeZ35ij",
        "outputId": "8b2210ec-79dc-42c0-fd59-82a75068eb5c"
      },
      "execution_count": 5,
      "outputs": [
        {
          "output_type": "execute_result",
          "data": {
            "text/plain": [
              "            기업체           연락처 소재지  인원  분야  대표자\n",
              "0        새찬알디에프  043-645-2371  단양   7  화학  이송미\n",
              "1  단양소백농협발효퇴비공장  043-423-6024  단양   3  화학  남희주\n",
              "2        소백산술도가  043-422-0077  단양   2  식품  이수영\n",
              "3         ㈜하천환경  043-266-3566  단양   4  의약  백주영\n",
              "4     ㈜에이엠에이트렝딩  043-421-2198  단양  14  의약  이주영\n",
              "5       씨알에프앤씨㈜  043-421-3336  단양   8  의약  장경자\n",
              "6         풍성약업㈜  043-422-6585  단양   4  의약  양영삼\n",
              "7          경성산업  043-421-0722  단양   4  의약  최찬송\n",
              "8      ㈜참좋은생명의집  043-422-4955  단양   1  식품  김혜순\n",
              "9       ㈜단양클로렐라  043-421-1611  단양   4  식품  김정곤"
            ],
            "text/html": [
              "\n",
              "  <div id=\"df-99f402a9-4565-4c80-8183-b5d6b417a636\">\n",
              "    <div class=\"colab-df-container\">\n",
              "      <div>\n",
              "<style scoped>\n",
              "    .dataframe tbody tr th:only-of-type {\n",
              "        vertical-align: middle;\n",
              "    }\n",
              "\n",
              "    .dataframe tbody tr th {\n",
              "        vertical-align: top;\n",
              "    }\n",
              "\n",
              "    .dataframe thead th {\n",
              "        text-align: right;\n",
              "    }\n",
              "</style>\n",
              "<table border=\"1\" class=\"dataframe\">\n",
              "  <thead>\n",
              "    <tr style=\"text-align: right;\">\n",
              "      <th></th>\n",
              "      <th>기업체</th>\n",
              "      <th>연락처</th>\n",
              "      <th>소재지</th>\n",
              "      <th>인원</th>\n",
              "      <th>분야</th>\n",
              "      <th>대표자</th>\n",
              "    </tr>\n",
              "  </thead>\n",
              "  <tbody>\n",
              "    <tr>\n",
              "      <th>0</th>\n",
              "      <td>새찬알디에프</td>\n",
              "      <td>043-645-2371</td>\n",
              "      <td>단양</td>\n",
              "      <td>7</td>\n",
              "      <td>화학</td>\n",
              "      <td>이송미</td>\n",
              "    </tr>\n",
              "    <tr>\n",
              "      <th>1</th>\n",
              "      <td>단양소백농협발효퇴비공장</td>\n",
              "      <td>043-423-6024</td>\n",
              "      <td>단양</td>\n",
              "      <td>3</td>\n",
              "      <td>화학</td>\n",
              "      <td>남희주</td>\n",
              "    </tr>\n",
              "    <tr>\n",
              "      <th>2</th>\n",
              "      <td>소백산술도가</td>\n",
              "      <td>043-422-0077</td>\n",
              "      <td>단양</td>\n",
              "      <td>2</td>\n",
              "      <td>식품</td>\n",
              "      <td>이수영</td>\n",
              "    </tr>\n",
              "    <tr>\n",
              "      <th>3</th>\n",
              "      <td>㈜하천환경</td>\n",
              "      <td>043-266-3566</td>\n",
              "      <td>단양</td>\n",
              "      <td>4</td>\n",
              "      <td>의약</td>\n",
              "      <td>백주영</td>\n",
              "    </tr>\n",
              "    <tr>\n",
              "      <th>4</th>\n",
              "      <td>㈜에이엠에이트렝딩</td>\n",
              "      <td>043-421-2198</td>\n",
              "      <td>단양</td>\n",
              "      <td>14</td>\n",
              "      <td>의약</td>\n",
              "      <td>이주영</td>\n",
              "    </tr>\n",
              "    <tr>\n",
              "      <th>5</th>\n",
              "      <td>씨알에프앤씨㈜</td>\n",
              "      <td>043-421-3336</td>\n",
              "      <td>단양</td>\n",
              "      <td>8</td>\n",
              "      <td>의약</td>\n",
              "      <td>장경자</td>\n",
              "    </tr>\n",
              "    <tr>\n",
              "      <th>6</th>\n",
              "      <td>풍성약업㈜</td>\n",
              "      <td>043-422-6585</td>\n",
              "      <td>단양</td>\n",
              "      <td>4</td>\n",
              "      <td>의약</td>\n",
              "      <td>양영삼</td>\n",
              "    </tr>\n",
              "    <tr>\n",
              "      <th>7</th>\n",
              "      <td>경성산업</td>\n",
              "      <td>043-421-0722</td>\n",
              "      <td>단양</td>\n",
              "      <td>4</td>\n",
              "      <td>의약</td>\n",
              "      <td>최찬송</td>\n",
              "    </tr>\n",
              "    <tr>\n",
              "      <th>8</th>\n",
              "      <td>㈜참좋은생명의집</td>\n",
              "      <td>043-422-4955</td>\n",
              "      <td>단양</td>\n",
              "      <td>1</td>\n",
              "      <td>식품</td>\n",
              "      <td>김혜순</td>\n",
              "    </tr>\n",
              "    <tr>\n",
              "      <th>9</th>\n",
              "      <td>㈜단양클로렐라</td>\n",
              "      <td>043-421-1611</td>\n",
              "      <td>단양</td>\n",
              "      <td>4</td>\n",
              "      <td>식품</td>\n",
              "      <td>김정곤</td>\n",
              "    </tr>\n",
              "  </tbody>\n",
              "</table>\n",
              "</div>\n",
              "      <button class=\"colab-df-convert\" onclick=\"convertToInteractive('df-99f402a9-4565-4c80-8183-b5d6b417a636')\"\n",
              "              title=\"Convert this dataframe to an interactive table.\"\n",
              "              style=\"display:none;\">\n",
              "        \n",
              "  <svg xmlns=\"http://www.w3.org/2000/svg\" height=\"24px\"viewBox=\"0 0 24 24\"\n",
              "       width=\"24px\">\n",
              "    <path d=\"M0 0h24v24H0V0z\" fill=\"none\"/>\n",
              "    <path d=\"M18.56 5.44l.94 2.06.94-2.06 2.06-.94-2.06-.94-.94-2.06-.94 2.06-2.06.94zm-11 1L8.5 8.5l.94-2.06 2.06-.94-2.06-.94L8.5 2.5l-.94 2.06-2.06.94zm10 10l.94 2.06.94-2.06 2.06-.94-2.06-.94-.94-2.06-.94 2.06-2.06.94z\"/><path d=\"M17.41 7.96l-1.37-1.37c-.4-.4-.92-.59-1.43-.59-.52 0-1.04.2-1.43.59L10.3 9.45l-7.72 7.72c-.78.78-.78 2.05 0 2.83L4 21.41c.39.39.9.59 1.41.59.51 0 1.02-.2 1.41-.59l7.78-7.78 2.81-2.81c.8-.78.8-2.07 0-2.86zM5.41 20L4 18.59l7.72-7.72 1.47 1.35L5.41 20z\"/>\n",
              "  </svg>\n",
              "      </button>\n",
              "      \n",
              "  <style>\n",
              "    .colab-df-container {\n",
              "      display:flex;\n",
              "      flex-wrap:wrap;\n",
              "      gap: 12px;\n",
              "    }\n",
              "\n",
              "    .colab-df-convert {\n",
              "      background-color: #E8F0FE;\n",
              "      border: none;\n",
              "      border-radius: 50%;\n",
              "      cursor: pointer;\n",
              "      display: none;\n",
              "      fill: #1967D2;\n",
              "      height: 32px;\n",
              "      padding: 0 0 0 0;\n",
              "      width: 32px;\n",
              "    }\n",
              "\n",
              "    .colab-df-convert:hover {\n",
              "      background-color: #E2EBFA;\n",
              "      box-shadow: 0px 1px 2px rgba(60, 64, 67, 0.3), 0px 1px 3px 1px rgba(60, 64, 67, 0.15);\n",
              "      fill: #174EA6;\n",
              "    }\n",
              "\n",
              "    [theme=dark] .colab-df-convert {\n",
              "      background-color: #3B4455;\n",
              "      fill: #D2E3FC;\n",
              "    }\n",
              "\n",
              "    [theme=dark] .colab-df-convert:hover {\n",
              "      background-color: #434B5C;\n",
              "      box-shadow: 0px 1px 3px 1px rgba(0, 0, 0, 0.15);\n",
              "      filter: drop-shadow(0px 1px 2px rgba(0, 0, 0, 0.3));\n",
              "      fill: #FFFFFF;\n",
              "    }\n",
              "  </style>\n",
              "\n",
              "      <script>\n",
              "        const buttonEl =\n",
              "          document.querySelector('#df-99f402a9-4565-4c80-8183-b5d6b417a636 button.colab-df-convert');\n",
              "        buttonEl.style.display =\n",
              "          google.colab.kernel.accessAllowed ? 'block' : 'none';\n",
              "\n",
              "        async function convertToInteractive(key) {\n",
              "          const element = document.querySelector('#df-99f402a9-4565-4c80-8183-b5d6b417a636');\n",
              "          const dataTable =\n",
              "            await google.colab.kernel.invokeFunction('convertToInteractive',\n",
              "                                                     [key], {});\n",
              "          if (!dataTable) return;\n",
              "\n",
              "          const docLinkHtml = 'Like what you see? Visit the ' +\n",
              "            '<a target=\"_blank\" href=https://colab.research.google.com/notebooks/data_table.ipynb>data table notebook</a>'\n",
              "            + ' to learn more about interactive tables.';\n",
              "          element.innerHTML = '';\n",
              "          dataTable['output_type'] = 'display_data';\n",
              "          await google.colab.output.renderOutput(dataTable, element);\n",
              "          const docLink = document.createElement('div');\n",
              "          docLink.innerHTML = docLinkHtml;\n",
              "          element.appendChild(docLink);\n",
              "        }\n",
              "      </script>\n",
              "    </div>\n",
              "  </div>\n",
              "  "
            ]
          },
          "metadata": {},
          "execution_count": 5
        }
      ]
    },
    {
      "cell_type": "code",
      "source": [
        "def test (ENTRPRS):\n",
        "  URL = ('http://apis.data.go.kr/6430000/currentBioCompaniesService/getCurrentBioCompanies?'\n",
        "         'serviceKey=%2BcbJOkdps0Jns1WQEUd3FOxRq2kNNmNuho9TQK%2F7BqqrYVD8vZ2I55LtIm245Dx%2BQokUZiBTY75MDC6FORiaBw%3D%3D'\n",
        "         '&ENTRPRS=' +ENTRPRS+\n",
        "         '&currentPage=1&perPage=10&_type=json')\n",
        "  \n",
        "  response = requests.get(URL)\n",
        "  r = response.json()\n",
        "  items = r['body']\n",
        "\n",
        "  CTTPC = [item['CTTPC'] for item in items]\n",
        "  ENTRPRS = [item['ENTRPRS'] for item in items]\n",
        "  LOCPLC = [item['LOCPLC'] for item in items]\n",
        "  NMPR = [item['NMPR'] for item in items]\n",
        "  REALM = [item['REALM'] for item in items]\n",
        "  RPRSNTV = [item['RPRSNTV'] for item in items]\n",
        "\n",
        "  ENTRPRS = pd.Series(ENTRPRS)\n",
        "  CTTPC = pd.Series(CTTPC)\n",
        "  LOCPLC = pd.Series(LOCPLC)\n",
        "  NMPR = pd.Series(NMPR)\n",
        "  REALM = pd.Series(REALM)\n",
        "  RPRSNTV = pd.Series(RPRSNTV)\n",
        "\n",
        "  df = pd. DataFrame({'기업체': ENTRPRS, '연락처': CTTPC, '소재지': LOCPLC, '인원': NMPR, '분야': REALM, '대표자':RPRSNTV})\n",
        "  return df"
      ],
      "metadata": {
        "id": "2OAaP9cA6tEa"
      },
      "execution_count": 6,
      "outputs": []
    },
    {
      "cell_type": "code",
      "source": [
        "iface = gr. Interface(test, gr.inputs.Dropdown(['새찬알디에프', '단양소백농협발효퇴비공장', '소백산술도가', '㈜하천환경', '㈜에이엠에이트렝딩', '씨알에프앤씨㈜', '풍성약업㈜\t', '경성산업\t','㈜참좋은생명의집', '㈜단양클로렐라']), outputs=['dataframe'])\n",
        "iface.launch(debug=True)"
      ],
      "metadata": {
        "colab": {
          "base_uri": "https://localhost:8080/",
          "height": 665
        },
        "id": "SJlzOBXi74zY",
        "outputId": "aead38a7-6635-4061-a670-b8990eb36a20"
      },
      "execution_count": 7,
      "outputs": [
        {
          "output_type": "stream",
          "name": "stdout",
          "text": [
            "Colab notebook detected. This cell will run indefinitely so that you can see errors and logs. To turn off, set debug=False in launch().\n",
            "Running on public URL: https://12750.gradio.app\n",
            "\n",
            "This share link expires in 72 hours. For free permanent hosting, check out Spaces (https://huggingface.co/spaces)\n"
          ]
        },
        {
          "output_type": "display_data",
          "data": {
            "text/plain": [
              "<IPython.lib.display.IFrame at 0x7f948253e250>"
            ],
            "text/html": [
              "\n",
              "        <iframe\n",
              "            width=\"900\"\n",
              "            height=\"500\"\n",
              "            src=\"https://12750.gradio.app\"\n",
              "            frameborder=\"0\"\n",
              "            allowfullscreen\n",
              "        ></iframe>\n",
              "        "
            ]
          },
          "metadata": {}
        },
        {
          "output_type": "stream",
          "name": "stdout",
          "text": [
            "Keyboard interruption in main thread... closing server.\n"
          ]
        },
        {
          "output_type": "execute_result",
          "data": {
            "text/plain": [
              "(<fastapi.applications.FastAPI at 0x7f948a8d1c10>,\n",
              " 'http://127.0.0.1:7860/',\n",
              " 'https://12750.gradio.app')"
            ]
          },
          "metadata": {},
          "execution_count": 7
        }
      ]
    }
  ]
}