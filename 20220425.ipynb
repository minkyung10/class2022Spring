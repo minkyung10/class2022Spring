{
  "nbformat": 4,
  "nbformat_minor": 0,
  "metadata": {
    "colab": {
      "name": "20220425.ipynb",
      "provenance": [],
      "authorship_tag": "ABX9TyMbUpqYY/PlJMCos+Ju412a",
      "include_colab_link": true
    },
    "kernelspec": {
      "name": "python3",
      "display_name": "Python 3"
    },
    "language_info": {
      "name": "python"
    }
  },
  "cells": [
    {
      "cell_type": "markdown",
      "metadata": {
        "id": "view-in-github",
        "colab_type": "text"
      },
      "source": [
        "<a href=\"https://colab.research.google.com/github/minkyung10/class2022Spring/blob/main/20220425.ipynb\" target=\"_parent\"><img src=\"https://colab.research.google.com/assets/colab-badge.svg\" alt=\"Open In Colab\"/></a>"
      ]
    },
    {
      "cell_type": "code",
      "execution_count": null,
      "metadata": {
        "id": "I1PhTG-42oO9"
      },
      "outputs": [],
      "source": [
        ""
      ]
    },
    {
      "cell_type": "markdown",
      "source": [
        "**Auto correlation (자기상관)**\n",
        "\n",
        "시계열 데이터에 내재하는 시점 간의 상관관계를 의미한다.\n",
        "\n",
        "관측치 간의 유사성과 비유사성을 나타내는 데 사용된다.\n",
        "\n",
        "time domain signals와 같은 함수나 일련의 값을 분석하기 위해 singal processing(신호 처리에) 자주 사용된다.\n",
        "\n"
      ],
      "metadata": {
        "id": "xLP2g_cF2pVv"
      }
    },
    {
      "cell_type": "markdown",
      "source": [
        "\n",
        "\n",
        "---"
      ],
      "metadata": {
        "id": "48806hcm4AKm"
      }
    },
    {
      "cell_type": "markdown",
      "source": [
        "**RMS: Root Mean Square (제곱평균제곱근)**\n",
        "\n",
        "변화하는 값의 크기에 대한 통계적 척도\n",
        "\n",
        "값들의 제곱에 대한 평균의 제곱근이다.\n",
        "\n",
        "평균을 구하는 방법 중 하나로, 변수들의 분포가 음과 양의 값을 골고루 가질 때 그 크기의 정도를 알아보고자 할 때 유용한 방법이다."
      ],
      "metadata": {
        "id": "6xtGSggv4KEa"
      }
    }
  ]
}